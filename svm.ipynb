{
 "cells": [
  {
   "cell_type": "markdown",
   "metadata": {},
   "source": [
    "this is a sample program used for analysis of breast cancer data using SVM"
   ]
  },
  {
   "cell_type": "markdown",
   "metadata": {},
   "source": [
    "importing essential libraries"
   ]
  },
  {
   "cell_type": "code",
   "execution_count": 1,
   "metadata": {},
   "outputs": [],
   "source": [
    "import numpy as np\n",
    "from sklearn import svm "
   ]
  },
  {
   "cell_type": "markdown",
   "metadata": {},
   "source": [
    "read train data"
   ]
  },
  {
   "cell_type": "code",
   "execution_count": 2,
   "metadata": {},
   "outputs": [
    {
     "name": "stdout",
     "output_type": "stream",
     "text": [
      "511\n",
      "511\n"
     ]
    }
   ],
   "source": [
    "f = open(\"bc.train.0.txt\")\n",
    "data = np.loadtxt(f)\n",
    "train = data[:,1:]\n",
    "trainlabels = data[:,0]\n",
    "print(len(train))\n",
    "print(len(trainlabels))"
   ]
  },
  {
   "cell_type": "markdown",
   "metadata": {},
   "source": [
    "reading test data"
   ]
  },
  {
   "cell_type": "code",
   "execution_count": 3,
   "metadata": {},
   "outputs": [
    {
     "name": "stdout",
     "output_type": "stream",
     "text": [
      "58\n",
      "58\n"
     ]
    }
   ],
   "source": [
    "f = open(\"bc.test.0.txt\")\n",
    "data = np.loadtxt(f)\n",
    "test = data[:,1:]\n",
    "testlabels = data[:,0]\n",
    "print(len(test))\n",
    "print(len(testlabels))"
   ]
  },
  {
   "cell_type": "markdown",
   "metadata": {},
   "source": [
    "make predictions using sklearn svm\n"
   ]
  },
  {
   "cell_type": "code",
   "execution_count": 4,
   "metadata": {},
   "outputs": [
    {
     "name": "stdout",
     "output_type": "stream",
     "text": [
      "[-1. -1. -1. -1.  1.  1. -1. -1.  1. -1.  1.  1. -1.  1.  1.  1. -1.  1.\n",
      "  1.  1.  1.  1. -1.  1.  1. -1.  1. -1.  1.  1.  1.  1.  1. -1.  1. -1.\n",
      "  1.  1.  1. -1.  1.  1.  1. -1.  1.  1.  1.  1.  1.  1.  1.  1. -1.  1.\n",
      " -1.  1. -1. -1.]\n"
     ]
    }
   ],
   "source": [
    "clf = svm.LinearSVC(C=1.0,max_iter = 100000000)\n",
    "clf.fit(train,trainlabels)\n",
    "prediction = clf.predict(test)\n",
    "print(prediction)"
   ]
  },
  {
   "cell_type": "markdown",
   "metadata": {},
   "source": [
    "finding the error"
   ]
  },
  {
   "cell_type": "code",
   "execution_count": 5,
   "metadata": {},
   "outputs": [
    {
     "name": "stdout",
     "output_type": "stream",
     "text": [
      "0.034482758620689655\n"
     ]
    }
   ],
   "source": [
    "err = 0\n",
    "for i in range (len(prediction)):\n",
    "    if(prediction[i] != testlabels[i]):\n",
    "        err += 1\n",
    "err = err/len(testlabels)\n",
    "print(err)"
   ]
  }
 ],
 "metadata": {
  "kernelspec": {
   "display_name": "Python 3",
   "language": "python",
   "name": "python3"
  },
  "language_info": {
   "codemirror_mode": {
    "name": "ipython",
    "version": 3
   },
   "file_extension": ".py",
   "mimetype": "text/x-python",
   "name": "python",
   "nbconvert_exporter": "python",
   "pygments_lexer": "ipython3",
   "version": "3.7.1"
  }
 },
 "nbformat": 4,
 "nbformat_minor": 2
}
